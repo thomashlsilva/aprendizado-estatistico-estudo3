{
 "cells": [
  {
   "cell_type": "markdown",
   "id": "b5b05d8d-bd70-4677-b95a-c6f6bb57cc65",
   "metadata": {},
   "source": [
    "## Disciplina: Aprendizado Estatístico\n",
    "\n",
    "### Estudo Dirigido 3\n",
    "\n",
    "---\n",
    "\n",
    "#### Introdução\n",
    "\n",
    "- Neste estudo dirigido, exploraremos conceitos e técnicas de Aprendizado Estatı́stico usando o conjunto de dados `Smarket` no R-Studio. Vamos analisar a regressão logı́stica, a Análise Discriminante Linear (LDA) e o K-Vizinhos Mais Próximos (KNN).\n",
    "\n",
    "#### Análise Descritiva\n",
    "\n",
    "- Carregue o conjunto de dados ”Smarket” usando require(ISLR).\n",
    "- Verifique os nomes das variáveis com names(Smarket).\n",
    "- Resuma as estatı́sticas descritivas do conjunto de dados com summary(Smarket)."
   ]
  },
  {
   "cell_type": "code",
   "execution_count": 3,
   "id": "c6fdf3fd-f461-4af4-9111-cd0fe7bdfd45",
   "metadata": {},
   "outputs": [
    {
     "data": {
      "text/html": [
       "<style>\n",
       ".list-inline {list-style: none; margin:0; padding: 0}\n",
       ".list-inline>li {display: inline-block}\n",
       ".list-inline>li:not(:last-child)::after {content: \"\\00b7\"; padding: 0 .5ex}\n",
       "</style>\n",
       "<ol class=list-inline><li>'Year'</li><li>'Lag1'</li><li>'Lag2'</li><li>'Lag3'</li><li>'Lag4'</li><li>'Lag5'</li><li>'Volume'</li><li>'Today'</li><li>'Direction'</li></ol>\n"
      ],
      "text/latex": [
       "\\begin{enumerate*}\n",
       "\\item 'Year'\n",
       "\\item 'Lag1'\n",
       "\\item 'Lag2'\n",
       "\\item 'Lag3'\n",
       "\\item 'Lag4'\n",
       "\\item 'Lag5'\n",
       "\\item 'Volume'\n",
       "\\item 'Today'\n",
       "\\item 'Direction'\n",
       "\\end{enumerate*}\n"
      ],
      "text/markdown": [
       "1. 'Year'\n",
       "2. 'Lag1'\n",
       "3. 'Lag2'\n",
       "4. 'Lag3'\n",
       "5. 'Lag4'\n",
       "6. 'Lag5'\n",
       "7. 'Volume'\n",
       "8. 'Today'\n",
       "9. 'Direction'\n",
       "\n",
       "\n"
      ],
      "text/plain": [
       "[1] \"Year\"      \"Lag1\"      \"Lag2\"      \"Lag3\"      \"Lag4\"      \"Lag5\"     \n",
       "[7] \"Volume\"    \"Today\"     \"Direction\""
      ]
     },
     "metadata": {},
     "output_type": "display_data"
    },
    {
     "data": {
      "text/plain": [
       "      Year           Lag1                Lag2                Lag3          \n",
       " Min.   :2001   Min.   :-4.922000   Min.   :-4.922000   Min.   :-4.922000  \n",
       " 1st Qu.:2002   1st Qu.:-0.639500   1st Qu.:-0.639500   1st Qu.:-0.640000  \n",
       " Median :2003   Median : 0.039000   Median : 0.039000   Median : 0.038500  \n",
       " Mean   :2003   Mean   : 0.003834   Mean   : 0.003919   Mean   : 0.001716  \n",
       " 3rd Qu.:2004   3rd Qu.: 0.596750   3rd Qu.: 0.596750   3rd Qu.: 0.596750  \n",
       " Max.   :2005   Max.   : 5.733000   Max.   : 5.733000   Max.   : 5.733000  \n",
       "      Lag4                Lag5              Volume           Today          \n",
       " Min.   :-4.922000   Min.   :-4.92200   Min.   :0.3561   Min.   :-4.922000  \n",
       " 1st Qu.:-0.640000   1st Qu.:-0.64000   1st Qu.:1.2574   1st Qu.:-0.639500  \n",
       " Median : 0.038500   Median : 0.03850   Median :1.4229   Median : 0.038500  \n",
       " Mean   : 0.001636   Mean   : 0.00561   Mean   :1.4783   Mean   : 0.003138  \n",
       " 3rd Qu.: 0.596750   3rd Qu.: 0.59700   3rd Qu.:1.6417   3rd Qu.: 0.596750  \n",
       " Max.   : 5.733000   Max.   : 5.73300   Max.   :3.1525   Max.   : 5.733000  \n",
       " Direction \n",
       " Down:602  \n",
       " Up  :648  \n",
       "           \n",
       "           \n",
       "           \n",
       "           "
      ]
     },
     "metadata": {},
     "output_type": "display_data"
    },
    {
     "data": {
      "text/html": [
       "\n",
       "<table style=\"width: 100%;\"><tr><td>Smarket {ISLR}</td><td style=\"text-align: right;\">R Documentation</td></tr></table>\n",
       "\n",
       "<h2>S&amp;P Stock Market Data\n",
       "</h2>\n",
       "\n",
       "<h3>Description</h3>\n",
       "\n",
       "<p>Daily percentage returns for the S&amp;P 500 stock index\n",
       "between 2001 and 2005. \n",
       "</p>\n",
       "\n",
       "\n",
       "<h3>Usage</h3>\n",
       "\n",
       "<pre><code class='language-R'>Smarket</code></pre>\n",
       "\n",
       "\n",
       "<h3>Format</h3>\n",
       "\n",
       "<p>A data frame with 1250 observations on the following 9 variables.\n",
       "</p>\n",
       "\n",
       "<dl>\n",
       "<dt><code>Year</code></dt><dd><p>The year that the observation was recorded</p>\n",
       "</dd>\n",
       "<dt><code>Lag1</code></dt><dd><p>Percentage return for previous day</p>\n",
       "</dd>\n",
       "<dt><code>Lag2</code></dt><dd><p>Percentage return for 2 days previous</p>\n",
       "</dd>\n",
       "<dt><code>Lag3</code></dt><dd><p>Percentage return for 3 days previous</p>\n",
       "</dd>\n",
       "<dt><code>Lag4</code></dt><dd><p>Percentage return for 4 days previous</p>\n",
       "</dd>\n",
       "<dt><code>Lag5</code></dt><dd><p>Percentage return for 5 days previous</p>\n",
       "</dd>\n",
       "<dt><code>Volume</code></dt><dd><p>Volume of shares traded (number of daily shares\n",
       "traded in billions)</p>\n",
       "</dd>\n",
       "<dt><code>Today</code></dt><dd><p>Percentage return for today</p>\n",
       "</dd>\n",
       "<dt><code>Direction</code></dt><dd><p>A factor with levels <code>Down</code> and\n",
       "<code>Up</code> indicating whether the market had a positive or negative\n",
       "return on a given day</p>\n",
       "</dd>\n",
       "</dl>\n",
       "\n",
       "\n",
       "\n",
       "<h3>Source</h3>\n",
       "\n",
       "<p>Raw values of the S&amp;P 500 were obtained from Yahoo Finance and\n",
       "then converted to percentages and lagged.\n",
       "</p>\n",
       "\n",
       "\n",
       "<h3>References</h3>\n",
       "\n",
       "<p>James, G., Witten, D., Hastie, T., and Tibshirani, R. (2013)\n",
       "<em>An Introduction to Statistical Learning with applications in R</em>,\n",
       "<a href=\"https://www.statlearning.com\">https://www.statlearning.com</a>,\n",
       "Springer-Verlag, New York\n",
       "</p>\n",
       "\n",
       "\n",
       "<h3>Examples</h3>\n",
       "\n",
       "<pre><code class='language-R'>summary(Smarket)\n",
       "lm(Today~Lag1+Lag2,data=Smarket)\n",
       "</code></pre>\n",
       "\n",
       "<hr /><div style=\"text-align: center;\">[Package <em>ISLR</em> version 1.4 ]</div></main>\n",
       "\n",
       "</div>"
      ],
      "text/latex": [
       "\\HeaderA{Smarket}{S\\&P Stock Market Data}{Smarket}\n",
       "\\keyword{datasets}{Smarket}\n",
       "%\n",
       "\\begin{Description}\n",
       "Daily percentage returns for the S\\&P 500 stock index\n",
       "between 2001 and 2005. \n",
       "\\end{Description}\n",
       "%\n",
       "\\begin{Usage}\n",
       "\\begin{verbatim}\n",
       "Smarket\n",
       "\\end{verbatim}\n",
       "\\end{Usage}\n",
       "%\n",
       "\\begin{Format}\n",
       "A data frame with 1250 observations on the following 9 variables.\n",
       "\\begin{description}\n",
       "\n",
       "\\item[\\code{Year}] The year that the observation was recorded\n",
       "\\item[\\code{Lag1}] Percentage return for previous day\n",
       "\\item[\\code{Lag2}] Percentage return for 2 days previous\n",
       "\\item[\\code{Lag3}] Percentage return for 3 days previous\n",
       "\\item[\\code{Lag4}] Percentage return for 4 days previous\n",
       "\\item[\\code{Lag5}] Percentage return for 5 days previous\n",
       "\\item[\\code{Volume}] Volume of shares traded (number of daily shares\n",
       "traded in billions)\n",
       "\\item[\\code{Today}] Percentage return for today\n",
       "\\item[\\code{Direction}] A factor with levels \\code{Down} and\n",
       "\\code{Up} indicating whether the market had a positive or negative\n",
       "return on a given day\n",
       "\n",
       "\\end{description}\n",
       "\n",
       "\\end{Format}\n",
       "%\n",
       "\\begin{Source}\n",
       "Raw values of the S\\&P 500 were obtained from Yahoo Finance and\n",
       "then converted to percentages and lagged.\n",
       "\\end{Source}\n",
       "%\n",
       "\\begin{References}\n",
       "James, G., Witten, D., Hastie, T., and Tibshirani, R. (2013)\n",
       "\\emph{An Introduction to Statistical Learning with applications in R},\n",
       "\\url{https://www.statlearning.com},\n",
       "Springer-Verlag, New York\n",
       "\\end{References}\n",
       "%\n",
       "\\begin{Examples}\n",
       "\\begin{ExampleCode}\n",
       "summary(Smarket)\n",
       "lm(Today~Lag1+Lag2,data=Smarket)\n",
       "\\end{ExampleCode}\n",
       "\\end{Examples}"
      ],
      "text/plain": [
       "Smarket                  package:ISLR                  R Documentation\n",
       "\n",
       "_\bS&_\bP _\bS_\bt_\bo_\bc_\bk _\bM_\ba_\br_\bk_\be_\bt _\bD_\ba_\bt_\ba\n",
       "\n",
       "_\bD_\be_\bs_\bc_\br_\bi_\bp_\bt_\bi_\bo_\bn:\n",
       "\n",
       "     Daily percentage returns for the S&P 500 stock index between 2001\n",
       "     and 2005.\n",
       "\n",
       "_\bU_\bs_\ba_\bg_\be:\n",
       "\n",
       "     Smarket\n",
       "     \n",
       "_\bF_\bo_\br_\bm_\ba_\bt:\n",
       "\n",
       "     A data frame with 1250 observations on the following 9 variables.\n",
       "\n",
       "     'Year' The year that the observation was recorded\n",
       "\n",
       "     'Lag1' Percentage return for previous day\n",
       "\n",
       "     'Lag2' Percentage return for 2 days previous\n",
       "\n",
       "     'Lag3' Percentage return for 3 days previous\n",
       "\n",
       "     'Lag4' Percentage return for 4 days previous\n",
       "\n",
       "     'Lag5' Percentage return for 5 days previous\n",
       "\n",
       "     'Volume' Volume of shares traded (number of daily shares traded in\n",
       "          billions)\n",
       "\n",
       "     'Today' Percentage return for today\n",
       "\n",
       "     'Direction' A factor with levels 'Down' and 'Up' indicating\n",
       "          whether the market had a positive or negative return on a\n",
       "          given day\n",
       "\n",
       "_\bS_\bo_\bu_\br_\bc_\be:\n",
       "\n",
       "     Raw values of the S&P 500 were obtained from Yahoo Finance and\n",
       "     then converted to percentages and lagged.\n",
       "\n",
       "_\bR_\be_\bf_\be_\br_\be_\bn_\bc_\be_\bs:\n",
       "\n",
       "     James, G., Witten, D., Hastie, T., and Tibshirani, R. (2013) _An\n",
       "     Introduction to Statistical Learning with applications in R_,\n",
       "     <https://www.statlearning.com>, Springer-Verlag, New York\n",
       "\n",
       "_\bE_\bx_\ba_\bm_\bp_\bl_\be_\bs:\n",
       "\n",
       "     summary(Smarket)\n",
       "     lm(Today~Lag1+Lag2,data=Smarket)\n",
       "     "
      ]
     },
     "metadata": {},
     "output_type": "display_data"
    }
   ],
   "source": [
    "require(ISLR)\n",
    "names(Smarket)\n",
    "summary(Smarket)\n",
    "?Smarket"
   ]
  },
  {
   "cell_type": "markdown",
   "id": "4c9ae1db-1d0a-4d8e-820d-adde1ea61dd2",
   "metadata": {},
   "source": [
    "A seguir está disposta a análise descritiva do conjunto de dados `Smarket` com base no resumo fornecido pela função `summary()`:\n",
    "- **Year:** O conjunto de dados abrange os anos de 2001 a 2005;\n",
    "- **Lag1, Lag2, Lag3, Lag4, Lag5:** Estas são as variáveis de lag (atraso) que representam os retornos em dias anteriores. As estatísticas incluem mínimo, 1º quartil, mediana, média, 3º quartil e máximo para cada uma delas;\n",
    "- **Volume:** Estatísticas para o volume de negociações, incluindo mínimo, 1º quartil, mediana, média, 3º quartil e máximo;\n",
    "- **Today:** Estatísticas para os retornos no dia atual, incluindo mínimo, 1º quartil, mediana, média, 3º quartil e máximo;\n",
    "- **Direction:** Esta é a variável de resposta que indica a direção do mercado ('Up' para cima e 'Down' para baixo). O resumo mostra a contagem de observações para cada categoria.\n",
    "\n",
    "---\n",
    "#### Gráficos Exploratórios\n",
    "\n",
    "- Plote um gráfico de pares (scatter plot matrix) usando pairs(Smarket,col=Smarket$Direction)."
   ]
  },
  {
   "cell_type": "code",
   "execution_count": 4,
   "id": "f088f62a-c438-413a-8d77-b35924cd0a4f",
   "metadata": {},
   "outputs": [
    {
     "data": {
      "image/png": "[encoded data removed]",
      "text/plain": [
       "plot without title"
      ]
     },
     "metadata": {
      "image/png": {
       "height": 420,
       "width": 420
      }
     },
     "output_type": "display_data"
    }
   ],
   "source": [
    "pairs(Smarket,col=Smarket$Direction)"
   ]
  },
  {
   "cell_type": "markdown",
   "id": "e4339558-5f93-49d6-87aa-51c3bbebd5ca",
   "metadata": {},
   "source": [
    "O código usa `pairs(Smarket, col = Smarket\\$Direction)` com a função `pairs()` para criar um gráfico de pares, colorindo os pontos com base na variável `Direction`.\n",
    "\n",
    "---\n",
    "#### Regressão Logística\n",
    "\n",
    "- Ajuste um modelo de regressão logística com todas as variáveis independentes usando glm().\n",
    "- Visualize o resumo do modelo com summary(glm.fit).\n",
    "- Faça previsões de probabilidade usando predict().\n",
    "- Crie uma variável de predição com base nas probabilidades calculadas.\n",
    "- Calcule a tabela de contingência e a taxa de acerto.\n",
    "\n",
    "Para ajustar um modelo de regressão logística com todas as variáveis independentes no R usando a função `glm()`, utilizou-se o código a seguir, incluindo o resumo pela função `summary()`:"
   ]
  },
  {
   "cell_type": "code",
   "execution_count": 7,
   "id": "a2ed000f-0cff-419b-93af-6f687193838f",
   "metadata": {},
   "outputs": [
    {
     "data": {
      "text/plain": [
       "\n",
       "Call:\n",
       "glm(formula = Direction ~ Lag1 + Lag2 + Lag3 + Lag4 + Lag5 + \n",
       "    Volume, family = binomial, data = Smarket)\n",
       "\n",
       "Coefficients:\n",
       "             Estimate Std. Error z value Pr(>|z|)\n",
       "(Intercept) -0.126000   0.240736  -0.523    0.601\n",
       "Lag1        -0.073074   0.050167  -1.457    0.145\n",
       "Lag2        -0.042301   0.050086  -0.845    0.398\n",
       "Lag3         0.011085   0.049939   0.222    0.824\n",
       "Lag4         0.009359   0.049974   0.187    0.851\n",
       "Lag5         0.010313   0.049511   0.208    0.835\n",
       "Volume       0.135441   0.158360   0.855    0.392\n",
       "\n",
       "(Dispersion parameter for binomial family taken to be 1)\n",
       "\n",
       "    Null deviance: 1731.2  on 1249  degrees of freedom\n",
       "Residual deviance: 1727.6  on 1243  degrees of freedom\n",
       "AIC: 1741.6\n",
       "\n",
       "Number of Fisher Scoring iterations: 3\n"
      ]
     },
     "metadata": {},
     "output_type": "display_data"
    }
   ],
   "source": [
    "# Ajustar o modelo de regressão logística\n",
    "glm.fit=glm(Direction~Lag1+Lag2+Lag3+Lag4+Lag5+Volume,\n",
    "            data=Smarket,family=binomial)\n",
    "# Visualizar o resumo do modelo\n",
    "summary(glm.fit)\n",
    "# Prever as probabilidades\n",
    "glm.probs=predict(glm.fit,type=\"response\")"
   ]
  },
  {
   "cell_type": "markdown",
   "id": "9350ca7e-53f3-477c-8d89-f0ecba3b8002",
   "metadata": {},
   "source": [
    "Observando o código fornecido, nota-se que a variável de resposta é `Direction`, e as variáveis preditoras são `Lag1`, `Lag2`, `Lag3`, `Lag4`, `Lag5` e `Volume`. Além disso, a função `predict()` foi usada para obter as previsões de probabilidades ajustadas pelo modelo, conforme a seguir."
   ]
  },
  {
   "cell_type": "code",
   "execution_count": 8,
   "id": "3f33465c-b0f8-4d74-9557-dc773bde4b02",
   "metadata": {},
   "outputs": [
    {
     "data": {
      "text/html": [
       "<style>\n",
       ".dl-inline {width: auto; margin:0; padding: 0}\n",
       ".dl-inline>dt, .dl-inline>dd {float: none; width: auto; display: inline-block}\n",
       ".dl-inline>dt::after {content: \":\\0020\"; padding-right: .5ex}\n",
       ".dl-inline>dt:not(:first-of-type) {padding-left: .5ex}\n",
       "</style><dl class=dl-inline><dt>1</dt><dd>0.507084133395401</dd><dt>2</dt><dd>0.481467878454591</dd><dt>3</dt><dd>0.481138835214201</dd><dt>4</dt><dd>0.515222355813022</dd><dt>5</dt><dd>0.510781162691538</dd></dl>\n"
      ],
      "text/latex": [
       "\\begin{description*}\n",
       "\\item[1] 0.507084133395401\n",
       "\\item[2] 0.481467878454591\n",
       "\\item[3] 0.481138835214201\n",
       "\\item[4] 0.515222355813022\n",
       "\\item[5] 0.510781162691538\n",
       "\\end{description*}\n"
      ],
      "text/markdown": [
       "1\n",
       ":   0.5070841333954012\n",
       ":   0.4814678784545913\n",
       ":   0.4811388352142014\n",
       ":   0.5152223558130225\n",
       ":   0.510781162691538\n",
       "\n"
      ],
      "text/plain": [
       "        1         2         3         4         5 \n",
       "0.5070841 0.4814679 0.4811388 0.5152224 0.5107812 "
      ]
     },
     "metadata": {},
     "output_type": "display_data"
    },
    {
     "name": "stderr",
     "output_type": "stream",
     "text": [
      "The following objects are masked from Smarket (pos = 3):\n",
      "\n",
      "    Direction, Lag1, Lag2, Lag3, Lag4, Lag5, Today, Volume, Year\n",
      "\n",
      "\n"
     ]
    },
    {
     "data": {
      "text/plain": [
       "        Direction\n",
       "glm.pred Down  Up\n",
       "    Down  145 141\n",
       "    Up    457 507"
      ]
     },
     "metadata": {},
     "output_type": "display_data"
    },
    {
     "data": {
      "text/html": [
       "0.5216"
      ],
      "text/latex": [
       "0.5216"
      ],
      "text/markdown": [
       "0.5216"
      ],
      "text/plain": [
       "[1] 0.5216"
      ]
     },
     "metadata": {},
     "output_type": "display_data"
    }
   ],
   "source": [
    "# Mostrar as probabilidades para as primeiras 5 observações\n",
    "glm.probs[1:5]\n",
    "# Fazer predições com base na probabilidade\n",
    "glm.pred=ifelse(glm.probs>0.5,\"Up\",\"Down\")\n",
    "# Anexar o data frame ao ambiente de trabalho\n",
    "attach(Smarket)\n",
    "# Tabela de contingência\n",
    "table(glm.pred,Direction)\n",
    "# Calcular a acurácia do modelo\n",
    "mean(glm.pred==Direction)"
   ]
  },
  {
   "cell_type": "markdown",
   "id": "87b7f4a9-d4ce-4b4e-83c3-a89bea31b67a",
   "metadata": {},
   "source": [
    "- O método `glm.probs[1:5]` foi usado para exibir as probabilidades calculadas para as primeiras 5 observações. Cada número representa a probabilidade estimada de a direção ser 'Up' para uma observação específica;\n",
    "\n",
    "- O método `glm.pred=ifelse(glm.probs>0.5,\"Up\",\"Down\")` cria predições binárias ('Up' ou 'Down') com base nas probabilidades previstas, o código cria predições binárias, classificando como 'Up' se a probabilidade for maior que 0.5 e como 'Down' caso contrário;\n",
    "\n",
    "- A função `attach(Smarket)` anexa o dataframe `Smarket` ao ambiente de trabalho;\n",
    "\n",
    "- A função `table(glm.pred, Direction)` cria uma tabela de confusão (tabela que resume a distribuição conjunta de duas variáveis categóricas) para comparar as predições (`glm.pred`) com as observações reais (`Direction`). Os números diagonais representam as predições corretas, enquanto os fora da diagonal representam os erros;\n",
    "\n",
    "- A função `mean(glm.pred == Direction)` calcula a acurácia do modelo, ou seja, a proporção de predições corretas em relação ao total. Neste caso, o modelo tem uma acurácia de aproximadamente 52.16%.\n",
    "\n",
    "---\n",
    "\n",
    "#### Divisão de Conjuntos\n",
    "\n",
    "- Divida o conjunto de dados em treinamento e teste com base no ano.\n",
    "- Ajuste novamente um modelo de regressão logística no conjunto de treinamento.\n",
    "- Faça previsões no conjunto de teste e calcule a taxa de acerto.\n",
    "\n",
    "Essa etapa envolve a divisão do conjunto de dados em treino (até o ano de 2004) e teste (ano de 2005). O código a seguir apresenta os resultados do `console`:"
   ]
  },
  {
   "cell_type": "code",
   "execution_count": 10,
   "id": "9908fcae-680d-41e2-ba72-f40b119f2aa0",
   "metadata": {},
   "outputs": [
    {
     "data": {
      "text/plain": [
       "        Direction.2005\n",
       "glm.pred Down Up\n",
       "    Down   77 97\n",
       "    Up     34 44"
      ]
     },
     "metadata": {},
     "output_type": "display_data"
    },
    {
     "data": {
      "text/html": [
       "0.48015873015873"
      ],
      "text/latex": [
       "0.48015873015873"
      ],
      "text/markdown": [
       "0.48015873015873"
      ],
      "text/plain": [
       "[1] 0.4801587"
      ]
     },
     "metadata": {},
     "output_type": "display_data"
    }
   ],
   "source": [
    "# Definindo a condição para o conjunto de treino\n",
    "train = Year < 2005\n",
    "# Ajustando o modelo de regressão logística apenas no conjunto de treino\n",
    "glm.fit = glm(Direction ~ Lag1 + Lag2 + Lag3 + Lag4 + Lag5 + Volume,\n",
    "              data = Smarket, family = binomial, subset = train)\n",
    "# Prevendo as probabilidades para o conjunto de teste (ano de 2005)\n",
    "glm.probs = predict(glm.fit, newdata = Smarket[!train,], type = \"response\")\n",
    "# Criando predições binárias para o conjunto de teste\n",
    "glm.pred = ifelse(glm.probs > 0.5, \"Up\", \"Down\")\n",
    "# Salvando as direções reais para o conjunto de teste\n",
    "Direction.2005 = Smarket$Direction[!train]\n",
    "# Tabela de Contingência para o conjunto de teste\n",
    "table(glm.pred, Direction.2005)\n",
    "# Calculando a acurácia para o conjunto de teste\n",
    "mean(glm.pred == Direction.2005)"
   ]
  },
  {
   "cell_type": "markdown",
   "id": "f23a7eb7-ac48-4053-a76f-d8634af41e98",
   "metadata": {},
   "source": [
    "Analisando o código fornecido:\n",
    "\n",
    "- `train = Year < 2005`: Cria uma variável train que é `TRUE` para observações até o ano de 2004 e `FALSE` para observações em 2005;\n",
    "\n",
    "- `glm.fit`: Ajusta o modelo de regressão logística apenas no conjunto de treino (até 2004);\n",
    "\n",
    "- `glm.probs`: Prevê as probabilidades para o conjunto de teste (ano de 2005);\n",
    "\n",
    "- `glm.pred`: Cria predições binárias para o conjunto de teste com base nas probabilidades previstas;\n",
    "\n",
    "- `Direction.2005`: Salva as direções reais para o conjunto de teste. Assim como no exercício anterior, os números diagonais representam as predições corretas, enquanto os fora da diagonal representam os erros;\n",
    "\n",
    "- `table(glm.pred, Direction.2005)`: Cria uma tabela de confusão para comparar as predições com as direções reais no conjunto de teste;\n",
    "\n",
    "- `mean(glm.pred == Direction.2005)`: Calcula a acurácia para o conjunto de teste que foi aproximadamente 48.02%. Isso significa que o modelo está prevendo corretamente a direção do mercado em cerca de 48.02% das observações em 2005.\n",
    "\n",
    "---\n",
    "#### Modelo Menor\n",
    "- Ajuste um modelo de regressão logística com apenas as variáveis `Lag1` e `Lag2`.\n",
    "- Faça previsões no conjunto de teste e calcule a taxa de acerto."
   ]
  },
  {
   "cell_type": "code",
   "execution_count": 11,
   "id": "497b7f97-d884-4830-bccc-e87322e762ad",
   "metadata": {},
   "outputs": [
    {
     "data": {
      "text/plain": [
       "        Direction.2005\n",
       "glm.pred Down  Up\n",
       "    Down   35  35\n",
       "    Up     76 106"
      ]
     },
     "metadata": {},
     "output_type": "display_data"
    },
    {
     "data": {
      "text/html": [
       "0.55952380952381"
      ],
      "text/latex": [
       "0.55952380952381"
      ],
      "text/markdown": [
       "0.55952380952381"
      ],
      "text/plain": [
       "[1] 0.5595238"
      ]
     },
     "metadata": {},
     "output_type": "display_data"
    },
    {
     "data": {
      "text/html": [
       "0.582417582417582"
      ],
      "text/latex": [
       "0.582417582417582"
      ],
      "text/markdown": [
       "0.582417582417582"
      ],
      "text/plain": [
       "[1] 0.5824176"
      ]
     },
     "metadata": {},
     "output_type": "display_data"
    }
   ],
   "source": [
    "# Ajustar um modelo de regressão logística menor\n",
    "glm.fit = glm(Direction ~ Lag1 + Lag2,\n",
    "              data = Smarket, family = binomial, subset = train)\n",
    "# Prevendo as probabilidades para o conjunto de teste (ano de 2005)\n",
    "glm.probs = predict(glm.fit, newdata = Smarket[!train,], type = \"response\")\n",
    "# Criando predições binárias para o conjunto de teste\n",
    "glm.pred = ifelse(glm.probs > 0.5, \"Up\", \"Down\")\n",
    "# Tabela de Contingência para o conjunto de teste\n",
    "table(glm.pred, Direction.2005)\n",
    "# Calculando a acurácia para o conjunto de teste\n",
    "mean(glm.pred == Direction.2005)\n",
    "# Calculando a taxa de acertos para a direção \"Up\" no conjunto de teste\n",
    "106 / (76 + 106)"
   ]
  },
  {
   "cell_type": "markdown",
   "id": "dd14bd34-1ca4-4463-aac9-b7b6cf49aeb3",
   "metadata": {
    "jp-MarkdownHeadingCollapsed": true
   },
   "source": [
    "A seguir está a análise do código fornecido:\n",
    "\n",
    "- `glm.fit`: Ajusta um novo modelo de regressão logística considerando apenas as variáveis `Lag1` e `Lag2`\n",
    "\n",
    "- `glm.probs`: Prevê as probabilidades para o conjunto de teste usando o novo modelo\n",
    "\n",
    "- `glm.pred`: Cria predições binárias para o conjunto de teste com base nas novas probabilidades\n",
    "\n",
    "- `table(glm.pred, Direction.2005)`: Cria uma tabela de confusão para comparar as predições com as direções reais no conjunto de teste\n",
    "\n",
    "- `mean(glm.pred == Direction.2005)`: Calcula a acurácia para o conjunto de teste que foi aproximadamente 55.95%\n",
    "\n",
    "- `106 / (76 + 106)`: Calcula a taxa de acertos para a direção 'Up' no conjunto de teste que foi aproximadamente 58.24%\n",
    "\n",
    "---\n",
    "#### Análise Discriminante Linear (LDA)\n",
    "- Carregue a biblioteca MASS usando `require(MASS)`.\n",
    "- Ajuste um modelo LDA no conjunto de treinamento.\n",
    "- Faça previsões no conjunto de teste e calcule a taxa de acerto."
   ]
  },
  {
   "cell_type": "code",
   "execution_count": 13,
   "id": "6f4c2580-f612-4a22-8c1b-496819009a83",
   "metadata": {},
   "outputs": [
    {
     "data": {
      "text/plain": [
       "Call:\n",
       "lda(Direction ~ Lag1 + Lag2, data = Smarket, subset = Year < \n",
       "    2005)\n",
       "\n",
       "Prior probabilities of groups:\n",
       "    Down       Up \n",
       "0.491984 0.508016 \n",
       "\n",
       "Group means:\n",
       "            Lag1        Lag2\n",
       "Down  0.04279022  0.03389409\n",
       "Up   -0.03954635 -0.03132544\n",
       "\n",
       "Coefficients of linear discriminants:\n",
       "            LD1\n",
       "Lag1 -0.6420190\n",
       "Lag2 -0.5135293"
      ]
     },
     "metadata": {},
     "output_type": "display_data"
    }
   ],
   "source": [
    "# Carregar a biblioteca MASS\n",
    "require(MASS)\n",
    "# Ajustar um modelo LDA usando as variáveis Lag1 e Lag2\n",
    "lda.fit = lda(Direction ~ Lag1 + Lag2, data = Smarket, subset = Year < 2005)\n",
    "# Exibir informações sobre o modelo LDA\n",
    "lda.fit"
   ]
  },
  {
   "cell_type": "markdown",
   "id": "1864ed40-3212-4096-9b4e-ad38f587817f",
   "metadata": {},
   "source": [
    "A função `lda.fit` ajusta um modelo de LDA usando as variáveis `Lag1` e `Lag2` para o conjunto de dados antes do ano de 2005. Além disso, a função `plot(lda.fit)` gera gráficos relacionados ao modelo de LDA para fins de visualização, veja a seguir:"
   ]
  },
  {
   "cell_type": "code",
   "execution_count": 14,
   "id": "0aa42f62-7197-431e-a5f1-c39581195888",
   "metadata": {},
   "outputs": [
    {
     "ename": "ERROR",
     "evalue": "Error in lda.pred[1:5, ]: incorrect number of dimensions\n",
     "output_type": "error",
     "traceback": [
      "Error in lda.pred[1:5, ]: incorrect number of dimensions\nTraceback:\n"
     ]
    },
    {
     "data": {
      "image/png": "[encoded data removed]",
      "text/plain": [
       "plot without title"
      ]
     },
     "metadata": {
      "image/png": {
       "height": 420,
       "width": 420
      }
     },
     "output_type": "display_data"
    }
   ],
   "source": [
    "# Plotar gráficos relacionados ao modelo LDA\n",
    "plot(lda.fit)\n",
    "# Criar um subconjunto do conjunto de dados para o ano de 2005\n",
    "Smarket.2005 = subset(Smarket, Year == 2005)\n",
    "# Prever as classes usando o modelo LDA para o ano de 2005\n",
    "lda.pred = predict(lda.fit, Smarket.2005)\n",
    "# Exibir as previsões para as primeiras 5 observações\n",
    "lda.pred[1:5,]\n",
    "# Verificar a classe da previsão\n",
    "# class(lda.pred)\n",
    "# Obter apenas a classe das previsões\n",
    "lda.pred$class[1:5]\n",
    "# Ou, se desejar criar um data frame com as previsões\n",
    "# data.frame(PredictedDirection = lda.pred$class)[1:5,]\n",
    "# Criar um data frame com as previsões e exibir as primeiras 5 observações\n",
    "data.frame(lda.pred)[1:5,]\n",
    "# Tabela de contingência entre as previsões e as direções reais\n",
    "table(lda.pred$class, Smarket.2005$Direction)\n",
    "# Calcular a acurácia do modelo LDA\n",
    "mean(lda.pred$class == Smarket.2005$Direction)"
   ]
  },
  {
   "cell_type": "markdown",
   "id": "f2edcb00-704b-4375-bc7a-525910fe25a0",
   "metadata": {},
   "source": [
    "Especificamente, o gráfico discriminante é produzido, permitindo a interpretação dos resultados. Neste contexto, o modelo LDA busca separar as observações em 'Up' e 'Down' no espaço de características definido pelas variáveis `Lag1` e `Lag2`. O objetivo é encontrar um espaço onde as observações das classes 'Up' e 'Down' estejam o mais nitidamente separadas possível. Por fim, a análise do restante do código fornecido:\n",
    "\n",
    "- `Smarket.2005`: Cria um subconjunto do conjunto de dados para o ano de 2005\n",
    "\n",
    "- `lda.pred`: Prevê as classes usando o modelo LDA para o conjunto de dados do ano de 2005. Sendo as previsões da classe para as primeiras 5 observações são todas 'Up' (`lda.pred$class[1:5]`). Isso significa que o modelo LDA prevê que a direção do mercado para essas observações é 'Up'\n",
    "\n",
    "- A estrutura da previsão é uma lista, onde `lda.pred$class` contém as classes previstas (Up/Down)\n",
    "\n",
    "- `data.frame(lda.pred)`: Fornece informações adicionais, incluindo:\n",
    "  - Probabilidades posteriores para 'Down' (`posterior.Down`)\n",
    "  - Probabilidades posteriores para 'Up' (`posterior.Up`)\n",
    "  - Valores da primeira função discriminante linear (`LD1`)\n",
    "\n",
    "- `table(lda.pred$class, Smarket.2005$Direction)`: Cria uma tabela de confusão para comparar as previsões com as direções reais no ano de 2005\n",
    "\n",
    "- `mean(lda.pred$class == Smarket.2005$Direction)`: Calcula a acurácia do modelo LDA para o ano de 2005 que foi de aproximadamente 55.95%\n",
    "\n",
    "---\n",
    "#### K-Vizinhos Mais Próximos (KNN)\n",
    "- Carregue a biblioteca `class`.\n",
    "- Divida o conjunto de dados em treinamento e teste.\n",
    "- Ajuste um modelo KNN no conjunto de treinamento com k = 1.\n",
    "- Façaa previsões no conjunto de teste e calcule a taxa de acerto."
   ]
  },
  {
   "cell_type": "code",
   "execution_count": 15,
   "id": "fbcc1413-3340-4192-a19b-c9c9afa2a041",
   "metadata": {},
   "outputs": [
    {
     "name": "stderr",
     "output_type": "stream",
     "text": [
      "The following objects are masked from Smarket (pos = 5):\n",
      "\n",
      "    Direction, Lag1, Lag2, Lag3, Lag4, Lag5, Today, Volume, Year\n",
      "\n",
      "\n",
      "The following objects are masked from Smarket (pos = 6):\n",
      "\n",
      "    Direction, Lag1, Lag2, Lag3, Lag4, Lag5, Today, Volume, Year\n",
      "\n",
      "\n"
     ]
    },
    {
     "data": {
      "text/plain": [
       "        \n",
       "knn.pred Down Up\n",
       "    Down   43 58\n",
       "    Up     68 83"
      ]
     },
     "metadata": {},
     "output_type": "display_data"
    },
    {
     "data": {
      "text/html": [
       "0.5"
      ],
      "text/latex": [
       "0.5"
      ],
      "text/markdown": [
       "0.5"
      ],
      "text/plain": [
       "[1] 0.5"
      ]
     },
     "metadata": {},
     "output_type": "display_data"
    }
   ],
   "source": [
    "# Carregamento da Biblioteca\n",
    "library(class)\n",
    "# Anexo de Dados ao Ambiente de Trabalho\n",
    "attach(Smarket)\n",
    "# Criação da Matriz de Preditoras\n",
    "Xlag = cbind(Lag1, Lag2)\n",
    "# Divisão dos Dados: Treino e Teste\n",
    "train = Year < 2005\n",
    "# Ajuste do Modelo KNN\n",
    "knn.pred = knn(Xlag[train,], Xlag[!train,], Direction[train], k = 1)\n",
    "# Tabela de Contingência para Avaliação\n",
    "table(knn.pred, Direction[!train])\n",
    "# Taxa de Acurácia do Modelo KNN\n",
    "mean(knn.pred == Direction[!train])"
   ]
  },
  {
   "cell_type": "markdown",
   "id": "fce227ba-7f5f-49a7-9d7c-3f482b3974d8",
   "metadata": {},
   "source": [
    "Mais uma vez, a seguir está disposta a análise para o código fornecido:\n",
    "\n",
    "- `library(class)`: Carrega a biblioteca 'class', que contém a função `knn()` para ajuste do modelo KNN\n",
    "\n",
    "- `Xlag=cbind(Lag1, Lag2)`: Cria uma matriz `Xlag` contendo as variáveis preditoras:\n",
    "  - `Lag1`\n",
    "  - `Lag2`\n",
    "\n",
    "- `train=Year<2005`: Define a variável `train` para divisão dos dados:\n",
    "  - `TRUE` para anos anteriores a 2005 (treino)\n",
    "  - `FALSE` para ano de 2005 (teste)\n",
    "\n",
    "- `knn.pred=knn(Xlag[train,], Xlag[!train,], Direction[train], k=1)`: Ajusta o modelo KNN com:\n",
    "  - Conjunto de treino: `Xlag[train,]`\n",
    "  - Conjunto de teste: `Xlag[!train,]`\n",
    "  - Variável resposta: `Direction[train]`\n",
    "  - Parâmetro: `k=1` (vizinho mais próximo)\n",
    "\n",
    "- `table(knn.pred, Direction[!train])`: Gera a tabela de confusão comparando:\n",
    "  - Previsões: `knn.pred`\n",
    "  - Valores reais: `Direction[!train]`\n",
    "\n",
    "- `mean(knn.pred==Direction[!train])`: Calcula a acurácia do modelo:\n",
    "  - Resultado: 50% de precisão."
   ]
  },
  {
   "cell_type": "markdown",
   "id": "b8f260cc-2c38-49b9-8f04-fb02b8c11fc2",
   "metadata": {},
   "source": [
    "## Exercício 1 – Comente os ajustes dos diversos métodos\n",
    "\n",
    "### Regressão Logística\n",
    "\n",
    "* O primeiro modelo ajusta uma regressão logística usando todas as variáveis independentes disponíveis.\n",
    "* A precisão do modelo é razoável, com uma acurácia de **52.16%**, porém a prática de não dividir o conjunto de dados em treino e teste pode parecer ser mais eficaz do que realmente é. A robustez do modelo deve ser avaliada em dados independentes dos usados no treinamento.\n",
    "* Avaliar o modelo no mesmo conjunto em que foi treinado não fornece uma estimativa realista de como ele se comportará em dados não vistos. O objetivo é avaliar a capacidade de generalização do modelo para novas observações, e isso só pode ser feito adequadamente usando dados independentes.\n",
    "* Se o modelo é ajustado várias vezes nos mesmos dados, há o risco de overfitting — o modelo se ajusta bem ao conjunto de treino, mas não generaliza bem.\n",
    "\n",
    "### Regressão Logística com Divisão de Conjuntos\n",
    "\n",
    "* O segundo modelo ajusta uma regressão logística, mas divide os dados em conjuntos de treinamento e teste (2001-2004 para treinamento e 2005 para teste).\n",
    "* A precisão do modelo na amostra de teste é calculada.\n",
    "* A precisão do modelo é de aproximadamente **48%**, o que indica uma performance inferior, porém mais robusta e confiável.\n",
    "\n",
    "### Modelo Menor de Regressão Logística\n",
    "\n",
    "* O terceiro modelo ajusta uma regressão logística usando apenas as variáveis `Lag1` e `Lag2`.\n",
    "* A precisão do modelo melhora para cerca de **56%**, indicando um desempenho melhor do que o modelo anterior, mesmo utilizando menos variáveis.\n",
    "\n",
    "### Análise Discriminante Linear (LDA)\n",
    "\n",
    "* O modelo LDA também é ajustado usando as variáveis `Lag1` e `Lag2`.\n",
    "* A precisão do modelo é de aproximadamente **56%**, semelhante ao modelo menor de regressão logística.\n",
    "* O gráfico discriminante fornece uma representação visual da separação entre as classes, o que abre uma nova opção para análise dos resultados.\n",
    "\n",
    "### k-Vizinhos Mais Próximos (KNN)\n",
    "\n",
    "* O modelo KNN também é ajustado usando as variáveis `Lag1` e `Lag2`.\n",
    "* A precisão do modelo é de **50%**, indicando um desempenho relativamente fraco em relação aos anteriores.\n",
    "* O ajuste de hiperparâmetros, como o número de vizinhos no KNN, pode ser explorado para melhorar o desempenho.\n",
    "\n",
    "---\n",
    "\n",
    "**Comentários gerais:**\n",
    "\n",
    "* A escolha de variáveis e métodos pode impactar significativamente o desempenho do modelo.\n",
    "* A divisão de conjuntos é crucial para avaliar o desempenho do modelo em dados não utilizados durante o treinamento.\n",
    "* A interpretação do contexto e dos resultados é fundamental para escolher o modelo mais apropriado.\n",
    "\n",
    "---\n",
    "\n",
    "## Exercício 2 – Repita o Estudo Dirigido com o log da variável resposta\n",
    "\n",
    "A função logarítmica é frequentemente usada para transformar variáveis com comportamento exponencial. Ela pode ajudar a linearizar relações não lineares, o que é útil em modelos de regressão.\n",
    "\n",
    "No caso, foi criada a nova variável `log_Direction` a partir da variável `Direction` do conjunto de dados `Smarket`. A transformação consistiu nos seguintes passos:\n",
    "\n",
    "```r\n",
    "Smarket$log_Direction <- Smarket$Direction\n",
    "Smarket$log_Direction <- log(ifelse(Smarket$Direction == \"Up\", 1, 0))\n",
    "Smarket$log_Direction <- log(Smarket$log_Direction + 1)\n",
    "```"
   ]
  },
  {
   "cell_type": "code",
   "execution_count": 19,
   "id": "4ea690fe-885a-434a-bf3f-7dd7c3a72d79",
   "metadata": {},
   "outputs": [],
   "source": [
    "# Carregar o conjunto de dados Smarket\n",
    "require(ISLR)\n",
    "\n",
    "# Criar a coluna log_Direction e atribuir os valores originais\n",
    "Smarket$log_Direction <- Smarket$Direction\n",
    "\n",
    "# Substituir \"Up\" por 1 e \"Down\" por 0\n",
    "Smarket$log_Direction <- ifelse(Smarket$log_Direction == \"Up\", 1, 0)\n",
    "\n",
    "# Aplicar a transformação logarítmica (adicione 1 para evitar log(0))\n",
    "Smarket$log_Direction <- log(Smarket$log_Direction + 1)"
   ]
  },
  {
   "cell_type": "code",
   "execution_count": 20,
   "id": "0f2b30a8-0722-42f8-ae5e-37cd46943d3c",
   "metadata": {},
   "outputs": [
    {
     "name": "stderr",
     "output_type": "stream",
     "text": [
      "Warning message in eval(family$initialize):\n",
      "\"non-integer #successes in a binomial glm!\"\n"
     ]
    },
    {
     "data": {
      "text/plain": [
       "\n",
       "Call:\n",
       "glm(formula = log_Direction ~ Lag1 + Lag2 + Lag3 + Lag4 + Lag5 + \n",
       "    Volume, family = binomial, data = Smarket)\n",
       "\n",
       "Coefficients:\n",
       "             Estimate Std. Error z value Pr(>|z|)   \n",
       "(Intercept) -0.727758   0.249909  -2.912  0.00359 **\n",
       "Lag1        -0.054688   0.052103  -1.050  0.29390   \n",
       "Lag2        -0.031599   0.052113  -0.606  0.54428   \n",
       "Lag3         0.008579   0.051999   0.165  0.86895   \n",
       "Lag4         0.007095   0.052051   0.136  0.89158   \n",
       "Lag5         0.007884   0.051519   0.153  0.87837   \n",
       "Volume       0.100680   0.163875   0.614  0.53897   \n",
       "---\n",
       "Signif. codes:  0 '***' 0.001 '**' 0.01 '*' 0.05 '.' 0.1 ' ' 1\n",
       "\n",
       "(Dispersion parameter for binomial family taken to be 1)\n",
       "\n",
       "    Null deviance: 833.51  on 1249  degrees of freedom\n",
       "Residual deviance: 831.65  on 1243  degrees of freedom\n",
       "AIC: 1873.4\n",
       "\n",
       "Number of Fisher Scoring iterations: 3\n"
      ]
     },
     "metadata": {},
     "output_type": "display_data"
    },
    {
     "data": {
      "text/html": [
       "<style>\n",
       ".dl-inline {width: auto; margin:0; padding: 0}\n",
       ".dl-inline>dt, .dl-inline>dd {float: none; width: auto; display: inline-block}\n",
       ".dl-inline>dt::after {content: \":\\0020\"; padding-right: .5ex}\n",
       ".dl-inline>dt:not(:first-of-type) {padding-left: .5ex}\n",
       "</style><dl class=dl-inline><dt>1</dt><dd>0.351355976722735</dd><dt>2</dt><dd>0.333968035807351</dd><dt>3</dt><dd>0.333765904415387</dd><dt>4</dt><dd>0.356998905695201</dd><dt>5</dt><dd>0.353977877692734</dd></dl>\n"
      ],
      "text/latex": [
       "\\begin{description*}\n",
       "\\item[1] 0.351355976722735\n",
       "\\item[2] 0.333968035807351\n",
       "\\item[3] 0.333765904415387\n",
       "\\item[4] 0.356998905695201\n",
       "\\item[5] 0.353977877692734\n",
       "\\end{description*}\n"
      ],
      "text/markdown": [
       "1\n",
       ":   0.3513559767227352\n",
       ":   0.3339680358073513\n",
       ":   0.3337659044153874\n",
       ":   0.3569989056952015\n",
       ":   0.353977877692734\n",
       "\n"
      ],
      "text/plain": [
       "        1         2         3         4         5 \n",
       "0.3513560 0.3339680 0.3337659 0.3569989 0.3539779 "
      ]
     },
     "metadata": {},
     "output_type": "display_data"
    },
    {
     "name": "stderr",
     "output_type": "stream",
     "text": [
      "The following objects are masked from Smarket (pos = 3):\n",
      "\n",
      "    Direction, Lag1, Lag2, Lag3, Lag4, Lag5, log_Direction, Today,\n",
      "    Volume, Year\n",
      "\n",
      "\n",
      "The following objects are masked from Smarket (pos = 4):\n",
      "\n",
      "    Direction, Lag1, Lag2, Lag3, Lag4, Lag5, Today, Volume, Year\n",
      "\n",
      "\n",
      "The following objects are masked from Smarket (pos = 7):\n",
      "\n",
      "    Direction, Lag1, Lag2, Lag3, Lag4, Lag5, Today, Volume, Year\n",
      "\n",
      "\n",
      "The following objects are masked from Smarket (pos = 8):\n",
      "\n",
      "    Direction, Lag1, Lag2, Lag3, Lag4, Lag5, Today, Volume, Year\n",
      "\n",
      "\n"
     ]
    },
    {
     "data": {
      "text/plain": [
       "        log_Direction\n",
       "glm.pred   0 0.693147180559945\n",
       "    Down 602               648"
      ]
     },
     "metadata": {},
     "output_type": "display_data"
    },
    {
     "data": {
      "text/html": [
       "0"
      ],
      "text/latex": [
       "0"
      ],
      "text/markdown": [
       "0"
      ],
      "text/plain": [
       "[1] 0"
      ]
     },
     "metadata": {},
     "output_type": "display_data"
    }
   ],
   "source": [
    "\n",
    "# REGRESSÃO LOGÍSTICA\n",
    "# Ajustar o modelo de regressão logística\n",
    "glm.fit = glm(log_Direction ~ Lag1 + Lag2 + Lag3 + Lag4 + Lag5 + Volume,\n",
    "              data = Smarket, family = binomial)\n",
    "# Visualizar o resumo do modelo\n",
    "summary(glm.fit)\n",
    "# Prever as probabilidades\n",
    "glm.probs = predict(glm.fit, type = \"response\")\n",
    "# Mostrar as probabilidades para as primeiras 5 observações\n",
    "glm.probs[1:5]\n",
    "# Fazer predições com base na probabilidade\n",
    "glm.pred = ifelse(glm.probs > 0.5, \"Up\", \"Down\")\n",
    "# Anexar o data frame ao ambiente de trabalho\n",
    "attach(Smarket)\n",
    "# Tabela de contingência\n",
    "table(glm.pred, log_Direction)\n",
    "# Calcular a acurácia do modelo\n",
    "mean(glm.pred == log_Direction)"
   ]
  },
  {
   "cell_type": "code",
   "execution_count": 21,
   "id": "e41f6e80-4959-4ab6-aecb-46d5ebbb45cd",
   "metadata": {},
   "outputs": [
    {
     "name": "stderr",
     "output_type": "stream",
     "text": [
      "Warning message in eval(family$initialize):\n",
      "\"non-integer #successes in a binomial glm!\"\n"
     ]
    },
    {
     "data": {
      "text/plain": [
       "        Direction.2005\n",
       "glm.pred   0 0.693147180559945\n",
       "    Down 111               141"
      ]
     },
     "metadata": {},
     "output_type": "display_data"
    },
    {
     "data": {
      "text/html": [
       "0"
      ],
      "text/latex": [
       "0"
      ],
      "text/markdown": [
       "0"
      ],
      "text/plain": [
       "[1] 0"
      ]
     },
     "metadata": {},
     "output_type": "display_data"
    }
   ],
   "source": [
    "# DIVISÃO DE CONJUNTOS\n",
    "# Definindo a condição para o conjunto de treino\n",
    "train = Year < 2005\n",
    "# Ajustando o modelo de regressão logística apenas no conjunto de treino\n",
    "glm.fit = glm(log_Direction ~ Lag1 + Lag2 + Lag3 + Lag4 + Lag5 + Volume,\n",
    "              data = Smarket, family = binomial, subset = train)\n",
    "# Prevendo as probabilidades para o conjunto de teste (ano de 2005)\n",
    "glm.probs = predict(glm.fit, newdata = Smarket[!train,], type = \"response\")\n",
    "# Criando predições binárias para o conjunto de teste\n",
    "glm.pred = ifelse(glm.probs > 0.5, \"Up\", \"Down\")\n",
    "# Salvando as direções reais para o conjunto de teste\n",
    "Direction.2005 = Smarket$log_Direction[!train]\n",
    "# Tabela de Contingência para o conjunto de teste\n",
    "table(glm.pred, Direction.2005)\n",
    "# Calculando a acurácia para o conjunto de teste\n",
    "mean(glm.pred == Direction.2005)"
   ]
  },
  {
   "cell_type": "code",
   "execution_count": 22,
   "id": "7dc30c65-82ed-47a0-8be3-2efba81d07f5",
   "metadata": {},
   "outputs": [
    {
     "name": "stderr",
     "output_type": "stream",
     "text": [
      "Warning message in eval(family$initialize):\n",
      "\"non-integer #successes in a binomial glm!\"\n"
     ]
    },
    {
     "data": {
      "text/plain": [
       "        Direction.2005\n",
       "glm.pred   0 0.693147180559945\n",
       "    Down 111               141"
      ]
     },
     "metadata": {},
     "output_type": "display_data"
    },
    {
     "data": {
      "text/html": [
       "0"
      ],
      "text/latex": [
       "0"
      ],
      "text/markdown": [
       "0"
      ],
      "text/plain": [
       "[1] 0"
      ]
     },
     "metadata": {},
     "output_type": "display_data"
    },
    {
     "data": {
      "text/html": [
       "0.582417582417582"
      ],
      "text/latex": [
       "0.582417582417582"
      ],
      "text/markdown": [
       "0.582417582417582"
      ],
      "text/plain": [
       "[1] 0.5824176"
      ]
     },
     "metadata": {},
     "output_type": "display_data"
    }
   ],
   "source": [
    "# MODELO MENOR\n",
    "# Ajustar um modelo de regressão logística menor\n",
    "glm.fit = glm(log_Direction ~ Lag1 + Lag2,\n",
    "              data = Smarket, family = binomial, subset = train)\n",
    "# Prevendo as probabilidades para o conjunto de teste (ano de 2005)\n",
    "glm.probs = predict(glm.fit, newdata = Smarket[!train,], type = \"response\")\n",
    "# Criando predições binárias para o conjunto de teste\n",
    "glm.pred = ifelse(glm.probs > 0.5, \"Up\", \"Down\")\n",
    "# Tabela de Contingência para o conjunto de teste\n",
    "table(glm.pred, Direction.2005)\n",
    "# Calculando a acurácia para o conjunto de teste\n",
    "mean(glm.pred == Direction.2005)\n",
    "# Calculando a taxa de acertos para a direção \"Up\" no conjunto de teste\n",
    "106 / (76 + 106)"
   ]
  },
  {
   "cell_type": "code",
   "execution_count": 23,
   "id": "c31b45f3-9992-43bf-8024-325d0113407a",
   "metadata": {},
   "outputs": [
    {
     "data": {
      "text/plain": [
       "Call:\n",
       "lda(log_Direction ~ Lag1 + Lag2, data = Smarket, subset = Year < \n",
       "    2005)\n",
       "\n",
       "Prior probabilities of groups:\n",
       "                0 0.693147180559945 \n",
       "         0.491984          0.508016 \n",
       "\n",
       "Group means:\n",
       "                         Lag1        Lag2\n",
       "0                  0.04279022  0.03389409\n",
       "0.693147180559945 -0.03954635 -0.03132544\n",
       "\n",
       "Coefficients of linear discriminants:\n",
       "            LD1\n",
       "Lag1 -0.6420190\n",
       "Lag2 -0.5135293"
      ]
     },
     "metadata": {},
     "output_type": "display_data"
    },
    {
     "ename": "ERROR",
     "evalue": "Error in lda.pred[1:5, ]: incorrect number of dimensions\n",
     "output_type": "error",
     "traceback": [
      "Error in lda.pred[1:5, ]: incorrect number of dimensions\nTraceback:\n"
     ]
    },
    {
     "data": {
      "image/png": "[encoded data removed]",
      "text/plain": [
       "plot without title"
      ]
     },
     "metadata": {
      "image/png": {
       "height": 420,
       "width": 420
      }
     },
     "output_type": "display_data"
    }
   ],
   "source": [
    "# LDA\n",
    "# Carregar a biblioteca MASS\n",
    "require(MASS)\n",
    "# Ajustar um modelo LDA usando as variáveis Lag1 e Lag2\n",
    "lda.fit = lda(log_Direction ~ Lag1 + Lag2, data = Smarket, subset = Year < 2005)\n",
    "# Exibir informações sobre o modelo LDA\n",
    "lda.fit\n",
    "# Plotar gráficos relacionados ao modelo LDA\n",
    "plot(lda.fit)\n",
    "# Criar um subconjunto do conjunto de dados para o ano de 2005\n",
    "Smarket.2005 = subset(Smarket, Year == 2005)\n",
    "# Prever as classes usando o modelo LDA para o ano de 2005\n",
    "lda.pred = predict(lda.fit, Smarket.2005)\n",
    "# Exibir as previsões para as primeiras 5 observações\n",
    "lda.pred[1:5,]\n",
    "# Verificar a classe da previsão\n",
    "# class(lda.pred)\n",
    "# Obter apenas a classe das previsões\n",
    "lda.pred$class[1:5]\n",
    "# Ou, se desejar criar um data frame com as previsões\n",
    "# data.frame(PredictedDirection = lda.pred$class)[1:5,]\n",
    "# Criar um data frame com as previsões e exibir as primeiras 5 observações\n",
    "data.frame(lda.pred)[1:5,]\n",
    "# Tabela de contingência entre as previsões e as direções reais\n",
    "table(lda.pred$class, Smarket.2005$log_Direction)\n",
    "# Calcular a acurácia do modelo LDA\n",
    "mean(lda.pred$class == Smarket.2005$log_Direction)"
   ]
  },
  {
   "cell_type": "code",
   "execution_count": 24,
   "id": "14fc840c-07da-492c-ba6d-a9472a9d8add",
   "metadata": {},
   "outputs": [
    {
     "name": "stderr",
     "output_type": "stream",
     "text": [
      "The following objects are masked from Smarket (pos = 3):\n",
      "\n",
      "    Direction, Lag1, Lag2, Lag3, Lag4, Lag5, log_Direction, Today,\n",
      "    Volume, Year\n",
      "\n",
      "\n",
      "The following objects are masked from Smarket (pos = 4):\n",
      "\n",
      "    Direction, Lag1, Lag2, Lag3, Lag4, Lag5, log_Direction, Today,\n",
      "    Volume, Year\n",
      "\n",
      "\n",
      "The following objects are masked from Smarket (pos = 5):\n",
      "\n",
      "    Direction, Lag1, Lag2, Lag3, Lag4, Lag5, Today, Volume, Year\n",
      "\n",
      "\n",
      "The following objects are masked from Smarket (pos = 8):\n",
      "\n",
      "    Direction, Lag1, Lag2, Lag3, Lag4, Lag5, Today, Volume, Year\n",
      "\n",
      "\n",
      "The following objects are masked from Smarket (pos = 9):\n",
      "\n",
      "    Direction, Lag1, Lag2, Lag3, Lag4, Lag5, Today, Volume, Year\n",
      "\n",
      "\n"
     ]
    },
    {
     "data": {
      "text/plain": [
       "                   \n",
       "knn.pred             0 0.693147180559945\n",
       "  0                 43                58\n",
       "  0.693147180559945 68                83"
      ]
     },
     "metadata": {},
     "output_type": "display_data"
    },
    {
     "data": {
      "text/html": [
       "0.5"
      ],
      "text/latex": [
       "0.5"
      ],
      "text/markdown": [
       "0.5"
      ],
      "text/plain": [
       "[1] 0.5"
      ]
     },
     "metadata": {},
     "output_type": "display_data"
    }
   ],
   "source": [
    "# KNN\n",
    "# Carregamento da Biblioteca\n",
    "library(class)\n",
    "# Anexo de Dados ao Ambiente de Trabalho\n",
    "attach(Smarket)\n",
    "# Criação da Matriz de Preditoras\n",
    "Xlag = cbind(Lag1, Lag2)\n",
    "# Divisão dos Dados: Treino e Teste\n",
    "train = Year < 2005\n",
    "# Ajuste do Modelo KNN\n",
    "knn.pred = knn(Xlag[train,], Xlag[!train,], log_Direction[train], k = 1)\n",
    "# Tabela de Contingência para Avaliação\n",
    "table(knn.pred, log_Direction[!train])\n",
    "# Taxa de Acurácia do Modelo KNN\n",
    "mean(knn.pred == log_Direction[!train])"
   ]
  },
  {
   "cell_type": "markdown",
   "id": "47abd905-e79a-4778-809c-38b5738b74c1",
   "metadata": {},
   "source": [
    "No entanto, **não houve diferença nos resultados dos três modelos de regressão logística**, indicando que aplicar `log()` na variável `Direction` não é ideal. Isso ocorre porque `Direction` é uma variável categórica binária (`Up` e `Down`), enquanto a função `log()` é indicada para variáveis contínuas e positivas.\n",
    "\n",
    "A regressão logística já é projetada para lidar com variáveis binárias, modelando diretamente a probabilidade de um evento ocorrer.\n",
    "\n",
    "Da mesma forma, **LDA e KNN também não apresentaram mudanças nos resultados de acurácia**, reforçando que a transformação logarítmica da variável resposta não traz ganhos significativos neste caso."
   ]
  }
 ],
 "metadata": {
  "kernelspec": {
   "display_name": "R",
   "language": "R",
   "name": "ir"
  },
  "language_info": {
   "codemirror_mode": "r",
   "file_extension": ".r",
   "mimetype": "text/x-r-source",
   "name": "R",
   "pygments_lexer": "r",
   "version": "4.5.0"
  }
 },
 "nbformat": 4,
 "nbformat_minor": 5
}
